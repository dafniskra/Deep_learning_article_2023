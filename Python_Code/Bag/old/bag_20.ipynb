{
 "cells": [
  {
   "cell_type": "code",
   "execution_count": 1,
   "id": "7a1121e8",
   "metadata": {},
   "outputs": [],
   "source": [
    "import os\n",
    "import pandas as pd\n",
    "path = r\"C:\\Users\\KRASNIQ\\Documents\\These_1.1\\resultats\""
   ]
  },
  {
   "cell_type": "code",
   "execution_count": 2,
   "id": "43a6c6e6",
   "metadata": {},
   "outputs": [],
   "source": [
    "files = []\n",
    "for i in os.listdir(path):\n",
    "    if os.path.isfile(os.path.join(path,i)) and 'resultats_20_' in i:\n",
    "        files.append(i)"
   ]
  },
  {
   "cell_type": "code",
   "execution_count": 3,
   "id": "e7030bc3",
   "metadata": {},
   "outputs": [
    {
     "data": {
      "text/plain": [
       "['resultats_20_10.csv',\n",
       " 'resultats_20_12.csv',\n",
       " 'resultats_20_14.csv',\n",
       " 'resultats_20_25.csv',\n",
       " 'resultats_20_27.csv',\n",
       " 'resultats_20_45.csv',\n",
       " 'resultats_20_53.csv',\n",
       " 'resultats_20_66.csv',\n",
       " 'resultats_20_74.csv',\n",
       " 'resultats_20_87.csv']"
      ]
     },
     "execution_count": 3,
     "metadata": {},
     "output_type": "execute_result"
    }
   ],
   "source": [
    "files"
   ]
  },
  {
   "cell_type": "code",
   "execution_count": 4,
   "id": "99734f4c",
   "metadata": {},
   "outputs": [],
   "source": [
    "train_s1_20 = []\n",
    "train_s1_30 = []\n",
    "train_s1_40 = []\n",
    "train_bagging = []\n",
    "train_s2 = []\n",
    "\n",
    "test_s1_20 = []\n",
    "test_s1_30 = []\n",
    "test_s1_40 = []\n",
    "test_bagging = []\n",
    "test_s2 = []\n",
    "\n",
    "for i in files:\n",
    "    data = pd.read_csv(i, sep=',')\n",
    "    train_s1_20.append(data.iloc[0, 0])\n",
    "    train_s1_30.append(data.iloc[1, 0])\n",
    "    train_s1_40.append(data.iloc[2, 0])\n",
    "    train_bagging.append(data.iloc[3, 0])\n",
    "    train_s2.append(data.iloc[4, 0])\n",
    "\n",
    "    test_s1_20.append(data.iloc[0, 1])\n",
    "    test_s1_30.append(data.iloc[1, 1])\n",
    "    test_s1_40.append(data.iloc[2, 1])\n",
    "    test_bagging.append(data.iloc[3, 1])\n",
    "    test_s2.append(data.iloc[4, 1])"
   ]
  },
  {
   "cell_type": "code",
   "execution_count": 5,
   "id": "4cafd61d",
   "metadata": {},
   "outputs": [
    {
     "name": "stdout",
     "output_type": "stream",
     "text": [
      "NN_{bag}\n"
     ]
    }
   ],
   "source": [
    "print(r\"NN_{bag}\")"
   ]
  },
  {
   "cell_type": "code",
   "execution_count": 12,
   "id": "08ad8237",
   "metadata": {},
   "outputs": [],
   "source": [
    "dt = train_bagging + train_s1_20+train_s1_30+train_s1_40+train_s2 + test_bagging +test_s1_20 +test_s1_30+ test_s1_40 + test_s2 \n",
    "name = [\"Bagging\"]*10 + [\"Bag_1_20\"]*10 + [\"Bag_1_30\"]*10 + [\"Bag_1_40\"]*10 + [\"Bag_2\"]*10 +[\"Bagging\"]*10 + [\"Bag_1_20\"]*10 + [\"Bag_1_30\"]*10 + [\"Bag_1_40\"]*10 + [\"Bag_2\"]*10\n",
    "train = [\"Train\"]*50 + [\"Test\"]*50"
   ]
  },
  {
   "cell_type": "code",
   "execution_count": 13,
   "id": "9e8cce97",
   "metadata": {},
   "outputs": [],
   "source": [
    "datafra = pd.DataFrame()\n",
    "datafra['poisson']=dt\n",
    "datafra['Models'] = name\n",
    "datafra['Train/Test'] = train"
   ]
  },
  {
   "cell_type": "code",
   "execution_count": 14,
   "id": "a8e5bb54",
   "metadata": {},
   "outputs": [
    {
     "data": {
      "text/html": [
       "<div>\n",
       "<style scoped>\n",
       "    .dataframe tbody tr th:only-of-type {\n",
       "        vertical-align: middle;\n",
       "    }\n",
       "\n",
       "    .dataframe tbody tr th {\n",
       "        vertical-align: top;\n",
       "    }\n",
       "\n",
       "    .dataframe thead th {\n",
       "        text-align: right;\n",
       "    }\n",
       "</style>\n",
       "<table border=\"1\" class=\"dataframe\">\n",
       "  <thead>\n",
       "    <tr style=\"text-align: right;\">\n",
       "      <th></th>\n",
       "      <th>poisson</th>\n",
       "      <th>Models</th>\n",
       "      <th>Train/Test</th>\n",
       "    </tr>\n",
       "  </thead>\n",
       "  <tbody>\n",
       "    <tr>\n",
       "      <th>0</th>\n",
       "      <td>29.398445</td>\n",
       "      <td>Bagging</td>\n",
       "      <td>Train</td>\n",
       "    </tr>\n",
       "    <tr>\n",
       "      <th>1</th>\n",
       "      <td>29.335240</td>\n",
       "      <td>Bagging</td>\n",
       "      <td>Train</td>\n",
       "    </tr>\n",
       "    <tr>\n",
       "      <th>2</th>\n",
       "      <td>29.298742</td>\n",
       "      <td>Bagging</td>\n",
       "      <td>Train</td>\n",
       "    </tr>\n",
       "    <tr>\n",
       "      <th>3</th>\n",
       "      <td>29.321113</td>\n",
       "      <td>Bagging</td>\n",
       "      <td>Train</td>\n",
       "    </tr>\n",
       "    <tr>\n",
       "      <th>4</th>\n",
       "      <td>29.375429</td>\n",
       "      <td>Bagging</td>\n",
       "      <td>Train</td>\n",
       "    </tr>\n",
       "    <tr>\n",
       "      <th>...</th>\n",
       "      <td>...</td>\n",
       "      <td>...</td>\n",
       "      <td>...</td>\n",
       "    </tr>\n",
       "    <tr>\n",
       "      <th>95</th>\n",
       "      <td>29.426830</td>\n",
       "      <td>Bag_2</td>\n",
       "      <td>Test</td>\n",
       "    </tr>\n",
       "    <tr>\n",
       "      <th>96</th>\n",
       "      <td>29.383760</td>\n",
       "      <td>Bag_2</td>\n",
       "      <td>Test</td>\n",
       "    </tr>\n",
       "    <tr>\n",
       "      <th>97</th>\n",
       "      <td>29.402255</td>\n",
       "      <td>Bag_2</td>\n",
       "      <td>Test</td>\n",
       "    </tr>\n",
       "    <tr>\n",
       "      <th>98</th>\n",
       "      <td>29.406539</td>\n",
       "      <td>Bag_2</td>\n",
       "      <td>Test</td>\n",
       "    </tr>\n",
       "    <tr>\n",
       "      <th>99</th>\n",
       "      <td>29.309288</td>\n",
       "      <td>Bag_2</td>\n",
       "      <td>Test</td>\n",
       "    </tr>\n",
       "  </tbody>\n",
       "</table>\n",
       "<p>100 rows × 3 columns</p>\n",
       "</div>"
      ],
      "text/plain": [
       "      poisson   Models Train/Test\n",
       "0   29.398445  Bagging      Train\n",
       "1   29.335240  Bagging      Train\n",
       "2   29.298742  Bagging      Train\n",
       "3   29.321113  Bagging      Train\n",
       "4   29.375429  Bagging      Train\n",
       "..        ...      ...        ...\n",
       "95  29.426830    Bag_2       Test\n",
       "96  29.383760    Bag_2       Test\n",
       "97  29.402255    Bag_2       Test\n",
       "98  29.406539    Bag_2       Test\n",
       "99  29.309288    Bag_2       Test\n",
       "\n",
       "[100 rows x 3 columns]"
      ]
     },
     "execution_count": 14,
     "metadata": {},
     "output_type": "execute_result"
    }
   ],
   "source": [
    "datafra"
   ]
  },
  {
   "cell_type": "markdown",
   "id": "12344166",
   "metadata": {},
   "source": [
    "import seaborn as sns\n",
    "import matplotlib.pyplot as plt\n",
    "plt.style.use('ggplot')\n",
    "\n",
    "sns.boxplot(data=datafra, x='poisson', y='Models', hue=\"Train/Test\", \n",
    "            showmeans=True,\n",
    "            meanprops={\"marker\":\"o\",\n",
    "                       \"markerfacecolor\":\"white\", \n",
    "                       \"markeredgecolor\":\"black\",\n",
    "                      \"markersize\":\"7\"})\n",
    "plt.xlabel('Poisson Deviance', fontsize=15)\n",
    "plt.ylabel('Methods', fontsize=15)\n",
    "plt.title('Models = 20', fontsize=15)\n",
    "plt.ytickslabels([\"NN_{bag}\", r\"NN_{bag}\", r\"NN_{bag}\", r\"NN_{bag}\", r\"NN_{bag}\", r\"NN_{bag}\"])\n",
    "plt.yticks(fontsize=12)\n",
    "#plt.xticks()\n",
    "plt.yticks(fontsize=12)\n",
    "plt.show();"
   ]
  },
  {
   "cell_type": "code",
   "execution_count": 15,
   "id": "4d56d594",
   "metadata": {},
   "outputs": [
    {
     "data": {
      "image/png": "[encoded data removed]",
      "text/plain": [
       "<Figure size 640x480 with 1 Axes>"
      ]
     },
     "metadata": {},
     "output_type": "display_data"
    }
   ],
   "source": [
    "import matplotlib.pyplot as plt\n",
    "import seaborn as sns\n",
    "import matplotlib.pyplot as plt\n",
    "plt.style.use('ggplot')\n",
    "import numpy as np\n",
    "\n",
    "plt.style.use('ggplot')\n",
    "\n",
    "cos = np.cos\n",
    "pi  = np.pi\n",
    "\n",
    "params = {'mathtext.default': 'regular' }  # Allows tex-style title & labels\n",
    "plt.rcParams.update(params)\n",
    "\n",
    "\n",
    "fig = plt.figure()\n",
    "\n",
    "ax  = fig.add_subplot(1, 1, 1)\n",
    "\n",
    "#t   = np.linspace(0.0, 2*pi, 100)\n",
    "\n",
    "#s   = cos(t)\n",
    "#plt.plot(t, s)\n",
    "\n",
    "sns.boxplot(data=datafra, x='poisson', y='Models', hue=\"Train/Test\", \n",
    "            showmeans=True,\n",
    "            meanprops={\"marker\":\"o\",\n",
    "                       \"markerfacecolor\":\"white\", \n",
    "                       \"markeredgecolor\":\"black\",\n",
    "                      \"markersize\":\"7\"})\n",
    "plt.xlabel('Poisson Deviance', fontsize=15)\n",
    "plt.ylabel('Methods', fontsize=15)\n",
    "plt.title('Models = 20', fontsize=15)\n",
    "\n",
    "\n",
    "plt.yticks(fontsize=12)\n",
    "\n",
    "plt.yticks(fontsize=12)\n",
    "\n",
    "ax.set_yticks([0, 1,2,3, 4])\n",
    "\n",
    "ax.set_yticklabels([r\"NN$_{bag}$\", r\"NN$_{sub-bag, 20\\%}^{1}$\", r\"NN$_{sub-bag, 30\\%}^{1}$\", \n",
    "                    r\"NN$_{sub-bag, 40\\%}^{1}$\", r\"NN$_{sub-bag}^{2}$\"])\n",
    "\n",
    "\n",
    "#ax.set_xticks([0, pi/2, pi, 3*pi/2, 2*pi])\n",
    "\n",
    "#ax.set_xticklabels(['$0$', r'$\\frac{\\pi}{2}$', r'$\\pi$', r'$\\frac{3\\pi}{2}$', r'$2\\pi$'])\n",
    "\n",
    "plt.show()"
   ]
  },
  {
   "cell_type": "code",
   "execution_count": 16,
   "id": "6f374eb6",
   "metadata": {},
   "outputs": [
    {
     "name": "stdout",
     "output_type": "stream",
     "text": [
      "Bagging Train\n",
      "29.339459800000004\n",
      "\n",
      "\n",
      "Bagging Test\n",
      "29.375233700000003\n",
      "\n",
      "\n",
      "Bag_1_20 Train\n",
      "29.358619499999996\n",
      "\n",
      "\n",
      "Bag_1_20 Test\n",
      "29.389861399999994\n",
      "\n",
      "\n",
      "Bag_1_30 Train\n",
      "29.3443354\n",
      "\n",
      "\n",
      "Bag_1_30 Test\n",
      "29.379744800000005\n",
      "\n",
      "\n",
      "Bag_1_40 Train\n",
      "29.342537200000002\n",
      "\n",
      "\n",
      "Bag_1_40 Test\n",
      "29.3796288\n",
      "\n",
      "\n",
      "Bag_2 Train\n",
      "29.2864786\n",
      "\n",
      "\n",
      "Bag_2 Test\n",
      "29.3247684\n",
      "\n",
      "\n"
     ]
    }
   ],
   "source": [
    "for j in  [\"Bagging\", \"Bag_1_20\", \"Bag_1_30\", \"Bag_1_40\", \"Bag_2\"]:\n",
    "    for i in ['Train', 'Test']:\n",
    "        print(j,i)\n",
    "        print(datafra[(datafra['Train/Test'] == i) & (datafra['Models'] == j)]['poisson'].mean())\n",
    "        print('\\n')\n",
    "        #print(datafra[(datafra['Train/Test'] == i) & (datafra['Models'] == j)]['poisson'].std())"
   ]
  },
  {
   "cell_type": "code",
   "execution_count": null,
   "id": "6ac337cd",
   "metadata": {},
   "outputs": [],
   "source": []
  }
 ],
 "metadata": {
  "kernelspec": {
   "display_name": "Python 3 (ipykernel)",
   "language": "python",
   "name": "python3"
  },
  "language_info": {
   "codemirror_mode": {
    "name": "ipython",
    "version": 3
   },
   "file_extension": ".py",
   "mimetype": "text/x-python",
   "name": "python",
   "nbconvert_exporter": "python",
   "pygments_lexer": "ipython3",
   "version": "3.9.13"
  }
 },
 "nbformat": 4,
 "nbformat_minor": 5
}
